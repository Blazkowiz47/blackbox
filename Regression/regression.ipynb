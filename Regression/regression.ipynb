{
 "cells": [
  {
   "cell_type": "code",
   "execution_count": 1,
   "metadata": {},
   "outputs": [],
   "source": [
    "from utils.initialisation import DenseLayer\n",
    "from utils.feed import feed_forward, back_prop\n",
    "from utils.loss import  get_loss\n",
    "from utils.activation import get_activation\n",
    "import numpy as np\n",
    "from tqdm import tqdm\n",
    "import matplotlib.pyplot as plt\n",
    "import random"
   ]
  },
  {
   "cell_type": "code",
   "execution_count": 1,
   "metadata": {},
   "outputs": [
    {
     "ename": "NameError",
     "evalue": "name 'np' is not defined",
     "output_type": "error",
     "traceback": [
      "\u001b[1;31m---------------------------------------------------------------------------\u001b[0m",
      "\u001b[1;31mNameError\u001b[0m                                 Traceback (most recent call last)",
      "Cell \u001b[1;32mIn [1], line 7\u001b[0m\n\u001b[0;32m      4\u001b[0m m \u001b[39m=\u001b[39m \u001b[39m1000\u001b[39m\n\u001b[0;32m      6\u001b[0m \u001b[39m## X : a nd-array of shape (1000,2)\u001b[39;00m\n\u001b[1;32m----> 7\u001b[0m X \u001b[39m=\u001b[39m np\u001b[39m.\u001b[39mrandom\u001b[39m.\u001b[39mrand(m, \u001b[39m2\u001b[39m)\n\u001b[0;32m      9\u001b[0m \u001b[39m## a,b : two random integers,\u001b[39;00m\n\u001b[0;32m     10\u001b[0m a , b \u001b[39m=\u001b[39m np\u001b[39m.\u001b[39mrandom\u001b[39m.\u001b[39mrandint(\u001b[39m1\u001b[39m,\u001b[39m10\u001b[39m), np\u001b[39m.\u001b[39mrandom\u001b[39m.\u001b[39mrand()\n",
      "\u001b[1;31mNameError\u001b[0m: name 'np' is not defined"
     ]
    }
   ],
   "source": [
    "## Dataset Generation\n",
    "\n",
    "## m : Number of data points \n",
    "m = 1000\n",
    "\n",
    "## X : a nd-array of shape (1000,2)\n",
    "X = np.random.rand(m, 2)\n",
    "\n",
    "## a,b : two random integers,\n",
    "a , b = np.random.randint(1,10), np.random.rand()\n",
    "\n",
    "\n",
    "X[:,1] = np.sin(a*X[:,0]*np.pi)\n",
    "\n",
    "noise = np.random.rand(m,1) + 2\n",
    "plt.scatter(X[:,0], X[:,1],c='orange',s=1)\n",
    "Y = np.random.choice(a=[False, True], size=(m,1))\n",
    "noise = (noise * Y) + (-1*noise*(Y==False))\n",
    "Y = Y*1\n",
    "X[:,1] = X[:,1] + noise[:,0] \n",
    "\n",
    "plt.scatter(X[:,0], X[:,1],cmap=\"hot\",s=1)"
   ]
  },
  {
   "cell_type": "code",
   "execution_count": 3,
   "metadata": {},
   "outputs": [],
   "source": [
    "# x_tot = np.random.rand(1000,2)\n",
    "# y_tot = np.random.rand(1000,1)\n",
    "# y_tot[:,0] = np.sin(x_tot[:,0]) + np.cos(x_tot[:,1])\n",
    "x_tot = X\n",
    "y_tot = Y\n",
    "x_train = x_tot[:800,:]\n",
    "y_train = y_tot[:800,:]\n",
    "x_test = x_tot[800:,:]\n",
    "y_test = y_tot[800:,:]\n",
    " "
   ]
  },
  {
   "cell_type": "code",
   "execution_count": 11,
   "metadata": {},
   "outputs": [
    {
     "name": "stderr",
     "output_type": "stream",
     "text": [
      "100%|██████████| 1000000/1000000 [11:16<00:00, 1478.25it/s]\n"
     ]
    }
   ],
   "source": [
    "x = x_train\n",
    "y = y_train\n",
    "\n",
    "w1,b1 = DenseLayer(2,5)\n",
    "w2,b2 = DenseLayer(5)\n",
    "\n",
    "for _ in tqdm(range(1000000)):\n",
    "    z1,a1=feed_forward(x,w1,b1,'relu')\n",
    "    z2,a2=feed_forward(a1,w2,b2,'sigmoid')\n",
    "    da_next = (a2-y)\n",
    "    dw2, db2, da_next = back_prop(a1,w2, a2,da_next,'sigmoid')\n",
    "    dw1, db1, da1 = back_prop(x,w1, a1,da_next,'relu')\n",
    "    w1 -= 0.00001*dw1\n",
    "    w2 -= 0.00001*dw2\n",
    "    b1 -= 0.00001*db1\n",
    "    b2 -= 0.00001*db2"
   ]
  },
  {
   "cell_type": "code",
   "execution_count": 12,
   "metadata": {},
   "outputs": [],
   "source": [
    "z1,a1=feed_forward(x_test,w1,b1,'relu')\n",
    "z2,yp=feed_forward(a1,w2,b2,'sigmoid')\n"
   ]
  },
  {
   "cell_type": "code",
   "execution_count": 13,
   "metadata": {},
   "outputs": [
    {
     "data": {
      "image/png": "[encoded data removed]",
      "text/plain": [
       "<Figure size 640x480 with 1 Axes>"
      ]
     },
     "metadata": {},
     "output_type": "display_data"
    }
   ],
   "source": [
    "plt.scatter(range(x_test.shape[0]), y_test, c = 'green', alpha=0.5,s=1)\n",
    "plt.scatter(range(x_test.shape[0]), yp, c = 'red',s=1)\n",
    "plt.show()"
   ]
  },
  {
   "cell_type": "code",
   "execution_count": null,
   "metadata": {},
   "outputs": [],
   "source": []
  }
 ],
 "metadata": {
  "kernelspec": {
   "display_name": "Python 3.9.13 ('blackbox')",
   "language": "python",
   "name": "python3"
  },
  "language_info": {
   "codemirror_mode": {
    "name": "ipython",
    "version": 3
   },
   "file_extension": ".py",
   "mimetype": "text/x-python",
   "name": "python",
   "nbconvert_exporter": "python",
   "pygments_lexer": "ipython3",
   "version": "3.9.13"
  },
  "orig_nbformat": 4,
  "vscode": {
   "interpreter": {
    "hash": "2b21deeac5a71c7ef3a1eca1381025f3d255d39da201e670d54e82da7fa10459"
   }
  }
 },
 "nbformat": 4,
 "nbformat_minor": 2
}
