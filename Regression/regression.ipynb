{
 "cells": [
  {
   "cell_type": "code",
   "execution_count": 6,
   "metadata": {},
   "outputs": [],
   "source": [
    "from utils.initialisation import DenseLayer\n",
    "from utils.feed import feed_forward, back_prop\n",
    "from utils.loss import  get_loss\n",
    "from utils.activation import get_activation\n",
    "import numpy as np\n",
    "from tqdm import tqdm\n",
    "import matplotlib.pyplot as plt"
   ]
  },
  {
   "cell_type": "code",
   "execution_count": 7,
   "metadata": {},
   "outputs": [],
   "source": [
    "x_tot = np.random.rand(1000,2)\n",
    "y_tot = np.random.rand(1000,1)\n",
    "y_tot[:,0] = np.sin(x_tot[:,0]) + np.cos(x_tot[:,1])\n",
    "y_tot = (y_tot > 0.4) * 1\n",
    "x_train = x_tot[:800,:]\n",
    "y_train = y_tot[:800,:]\n",
    "\n",
    "x_test = x_tot[800:,:]\n",
    "y_test = y_tot[800:,:]\n",
    " "
   ]
  },
  {
   "cell_type": "code",
   "execution_count": 8,
   "metadata": {},
   "outputs": [
    {
     "name": "stderr",
     "output_type": "stream",
     "text": [
      "100%|██████████| 1000/1000 [00:00<00:00, 1688.01it/s]\n"
     ]
    }
   ],
   "source": [
    "x = x_train\n",
    "y = y_train\n",
    "\n",
    "w1,b1 = DenseLayer(2,5)\n",
    "w2,b2 = DenseLayer(5)\n",
    "\n",
    "for _ in tqdm(range(1000)):\n",
    "    z1,a1=feed_forward(x,w1,b1,'relu')\n",
    "    z2,a2=feed_forward(a1,w2,b2,'sigmoid')\n",
    "    da_next = (a2-y)\n",
    "    dw2, db2, da_next = back_prop(a1,w2, z2,da_next,'sigmoid')\n",
    "    dw1, db1, da1 = back_prop(x,w1, z1,da_next,'relu')\n",
    "    w1 -= 0.00001*dw1\n",
    "    w2 -= 0.00001*dw2\n",
    "    b1 -= 0.00001*db1\n",
    "    b2 -= 0.00001*db2"
   ]
  },
  {
   "cell_type": "code",
   "execution_count": 9,
   "metadata": {},
   "outputs": [],
   "source": [
    "z1,a1=feed_forward(x_test,w1,b1,'relu')\n",
    "z2,yp=feed_forward(a1,w2,b2,'sigmoid')\n"
   ]
  },
  {
   "cell_type": "code",
   "execution_count": 10,
   "metadata": {},
   "outputs": [
    {
     "data": {
      "image/png": "[encoded data removed]",
      "text/plain": [
       "<Figure size 640x480 with 1 Axes>"
      ]
     },
     "metadata": {},
     "output_type": "display_data"
    }
   ],
   "source": [
    "plt.scatter(range(x_test.shape[0]), y_test, c = 'green', alpha=0.5,s=1)\n",
    "plt.scatter(range(x_test.shape[0]), yp, c = 'red',s=1)\n",
    "plt.show()"
   ]
  }
 ],
 "metadata": {
  "kernelspec": {
   "display_name": "Python 3.9.13 ('blackbox')",
   "language": "python",
   "name": "python3"
  },
  "language_info": {
   "codemirror_mode": {
    "name": "ipython",
    "version": 3
   },
   "file_extension": ".py",
   "mimetype": "text/x-python",
   "name": "python",
   "nbconvert_exporter": "python",
   "pygments_lexer": "ipython3",
   "version": "3.9.13"
  },
  "orig_nbformat": 4,
  "vscode": {
   "interpreter": {
    "hash": "2b21deeac5a71c7ef3a1eca1381025f3d255d39da201e670d54e82da7fa10459"
   }
  }
 },
 "nbformat": 4,
 "nbformat_minor": 2
}
