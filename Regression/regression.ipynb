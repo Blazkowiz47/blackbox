{
 "cells": [
  {
   "cell_type": "code",
   "execution_count": 1,
   "metadata": {},
   "outputs": [],
   "source": [
    "from utils.initialisation import DenseLayer\n",
    "from utils.feed import feed_forward, back_prop\n",
    "from utils.loss import  get_loss\n",
    "from utils.activation import get_activation\n",
    "import numpy as np\n",
    "from tqdm import tqdm\n",
    "import matplotlib.pyplot as plt"
   ]
  },
  {
   "cell_type": "code",
   "execution_count": 2,
   "metadata": {},
   "outputs": [],
   "source": [
    "x_tot = np.random.rand(1000,10)\n",
    "y_tot = np.random.rand(1000,1)\n",
    "y_tot = (y_tot > 0.4)*1\n",
    "\n",
    "x_train = x_tot[:800,:]\n",
    "y_train = y_tot[:800,:]\n",
    "\n",
    "x_test = x_tot[800:,:]\n",
    "y_test = y_tot[800:,:]\n",
    " "
   ]
  },
  {
   "cell_type": "code",
   "execution_count": 12,
   "metadata": {},
   "outputs": [
    {
     "name": "stderr",
     "output_type": "stream",
     "text": [
      " 64%|██████▍   | 641507/1000000 [04:47<03:26, 1732.20it/s]"
     ]
    }
   ],
   "source": [
    "x = x_train\n",
    "y = y_train\n",
    "\n",
    "w1,b1 = DenseLayer(10,5)\n",
    "w2,b2 = DenseLayer(5)\n",
    "\n",
    "for _ in tqdm(range(1000000)):\n",
    "    z1,a1=feed_forward(x,w1,b1,'relu')\n",
    "    z2,a2=feed_forward(a1,w2,b2,'sigmoid')\n",
    "    da_next = (a2-y)\n",
    "    dw2, db2, da_next = back_prop(a1,w2, z2,da_next,'sigmoid')\n",
    "    dw1, db1, da1 = back_prop(x,w1, z1,da_next,'relu')\n",
    "    w1 -= 0.01*dw1\n",
    "    w2 -= 0.01*dw2\n",
    "    b1 -= 0.01*db1\n",
    "    b2 -= 0.01*db2"
   ]
  },
  {
   "cell_type": "code",
   "execution_count": null,
   "metadata": {},
   "outputs": [],
   "source": [
    "z1,a1=feed_forward(x_test,w1,b1,'relu')\n",
    "z2,yp=feed_forward(a1,w2,b2,'sigmoid')\n"
   ]
  },
  {
   "cell_type": "code",
   "execution_count": null,
   "metadata": {},
   "outputs": [
    {
     "data": {
      "image/png": "[encoded data removed]",
      "text/plain": [
       "<Figure size 432x288 with 1 Axes>"
      ]
     },
     "metadata": {
      "needs_background": "light"
     },
     "output_type": "display_data"
    }
   ],
   "source": [
    "plt.scatter(range(x_test.shape[0]), y_test, c = 'green', alpha=0.5,s=1)\n",
    "plt.scatter(range(x_test.shape[0]), yp, c = 'red',s=1)\n",
    "plt.show()"
   ]
  },
  {
   "cell_type": "code",
   "execution_count": null,
   "metadata": {},
   "outputs": [],
   "source": [
    "def weightInitialization(n_features):\n",
    "    w = np.zeros((1,n_features))\n",
    "    b = 0\n",
    "    return w,b\n",
    "\n",
    "\n",
    "def model_optimize(w, b, X, Y, loss='msme', activation = 'sigmoid'):\n",
    "    m = X.shape[0]\n",
    "    \n",
    "    yp = np.dot(w,X.T)+b\n",
    "    yt = Y.T\n",
    "\n",
    "    if activation is not None:\n",
    "        yp = get_activation(activation)(yp)\n",
    "        \n",
    "    \n",
    "    cost = get_loss(loss)(yt,yp)\n",
    "\n",
    "    #Gradient calculation\n",
    "    dw = (1/m)*(np.dot(X.T, (yp-yt).T))\n",
    "    db = (1/m)*(np.sum(yp-yt))\n",
    "    \n",
    "    grads = {\"dw\": dw, \"db\": db}\n",
    "    \n",
    "    return grads, cost\n",
    "def model_predict(w, b, X, Y, learning_rate, no_iterations):\n",
    "    costs = []\n",
    "    for i in range(no_iterations):\n",
    "        #\n",
    "        grads, cost = model_optimize(w,b,X,Y)\n",
    "        #\n",
    "        dw = grads[\"dw\"]\n",
    "        db = grads[\"db\"]\n",
    "        #weight update\n",
    "        w = w - (learning_rate * (dw.T))\n",
    "        b = b - (learning_rate * db)\n",
    "        #\n",
    "        \n",
    "        if (i % 100 == 0):\n",
    "            costs.append(cost)\n",
    "            #print(\"Cost after %i iteration is %f\" %(i, cost))\n",
    "    \n",
    "    #final parameters\n",
    "    coeff = {\"w\": w, \"b\": b}\n",
    "    gradient = {\"dw\": dw, \"db\": db}\n",
    "    \n",
    "    return coeff, gradient, costs\n",
    "def predict(final_pred, m):\n",
    "    y_pred = np.zeros((1,m))\n",
    "    for i in range(final_pred.shape[1]):\n",
    "        if final_pred[0][i] > 0.5:\n",
    "            y_pred[0][i] = 1\n",
    "    return y_pred"
   ]
  }
 ],
 "metadata": {
  "kernelspec": {
   "display_name": "Python 3.9.12 ('isic')",
   "language": "python",
   "name": "python3"
  },
  "language_info": {
   "codemirror_mode": {
    "name": "ipython",
    "version": 3
   },
   "file_extension": ".py",
   "mimetype": "text/x-python",
   "name": "python",
   "nbconvert_exporter": "python",
   "pygments_lexer": "ipython3",
   "version": "3.9.12"
  },
  "orig_nbformat": 4,
  "vscode": {
   "interpreter": {
    "hash": "2ed40115b9311c990e0db03d45bc5fce15d49910c366a778b1744ea7c53758dc"
   }
  }
 },
 "nbformat": 4,
 "nbformat_minor": 2
}
